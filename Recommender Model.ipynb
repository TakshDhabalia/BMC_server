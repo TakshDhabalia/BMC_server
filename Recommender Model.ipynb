{
 "cells": [
  {
   "cell_type": "code",
   "execution_count": 4,
   "metadata": {},
   "outputs": [],
   "source": [
    "from sklearn.feature_extraction.text import TfidfVectorizer\n",
    "from sklearn.metrics.pairwise import cosine_similarity\n",
    "import pandas as pd\n",
    "import numpy as np\n",
    "import json\n",
    "from pathlib import Path"
   ]
  },
  {
   "cell_type": "code",
   "execution_count": null,
   "metadata": {},
   "outputs": [],
   "source": [
    "PRODUCT_INFO_DATASET = r'C:\\SEM6\\BMC_Hackathon\\Datasets\\TakeHome-Data Scientist\\Data\\product_info.json' # Replace with your file path "
   ]
  },
  {
   "cell_type": "code",
   "execution_count": 5,
   "metadata": {},
   "outputs": [],
   "source": [
    "def getProductDetails(file_path):\n",
    "    file_path = Path(file_path).resolve()\n",
    "\n",
    "    try:\n",
    "        with open(file_path, 'r') as jsonFile:\n",
    "            data = json.load(jsonFile)\n",
    "        \n",
    "        schemaFields = data['schema']['fields']\n",
    "        column_names = []\n",
    "\n",
    "        dataObjects = data['data']\n",
    "\n",
    "        for i in range(0, len(schemaFields)):\n",
    "            column_names.append(schemaFields[i]['name'])\n",
    "\n",
    "        product_df = pd.DataFrame(data=dataObjects, columns=column_names)\n",
    "\n",
    "        return product_df\n",
    "\n",
    "        \n",
    "\n",
    "    except Exception as e:\n",
    "        print(e)"
   ]
  },
  {
   "cell_type": "code",
   "execution_count": 7,
   "metadata": {},
   "outputs": [],
   "source": [
    "product_df = getProductDetails(PRODUCT_INFO_DATASET)"
   ]
  },
  {
   "cell_type": "code",
   "execution_count": 9,
   "metadata": {},
   "outputs": [],
   "source": [
    "product_df[\"Product_info\"] = product_df[\"Category\"] + \" \" + product_df[\"Product Name\"] + \" \" + product_df[\"Sub-Category\"]\n"
   ]
  },
  {
   "cell_type": "code",
   "execution_count": 10,
   "metadata": {},
   "outputs": [],
   "source": [
    "vectorizer = TfidfVectorizer(stop_words=\"english\", max_features=5000)\n",
    "product_vectors = vectorizer.fit_transform(product_df[\"Product_info\"])\n",
    "\n",
    "\n",
    "def getRelatedProducts(keyword, top_n=5):\n",
    "    keyword_vector = vectorizer.transform([keyword])\n",
    "\n",
    "    if keyword_vector.sum() == 0:\n",
    "        print(\"Warning: Keyword not found in vocabulary!\")\n",
    "        return []\n",
    "\n",
    "    similarities = cosine_similarity(keyword_vector, product_vectors).flatten()\n",
    "\n",
    "\n",
    "    top_indices = similarities.argsort()[::-1][:top_n]\n",
    "\n",
    "    results = [(product_df.iloc[i][\"Product ID\"], product_df.iloc[i][\"Product Name\"], similarities[i]) for i in top_indices]\n",
    "\n",
    "    return results\n"
   ]
  },
  {
   "cell_type": "code",
   "execution_count": 11,
   "metadata": {},
   "outputs": [
    {
     "name": "stdout",
     "output_type": "stream",
     "text": [
      "[('TEC-MA-10003230', 'Okidata C610n Printer', np.float64(0.39668129355799125)), ('TEC-MA-10001856', 'Okidata C610n Printer', np.float64(0.39668129355799125)), ('TEC-MA-10000984', 'Okidata MB760 Printer', np.float64(0.38848764331467606)), ('TEC-MA-10003337', 'Okidata B401 Printer', np.float64(0.38848764331467606)), ('TEC-MA-10003176', 'Okidata B400 Printer', np.float64(0.38848764331467606))]\n"
     ]
    }
   ],
   "source": [
    "query = \"printer\"\n",
    "recommended_products = getRelatedProducts(query)\n",
    "print(recommended_products)"
   ]
  }
 ],
 "metadata": {
  "kernelspec": {
   "display_name": "bmcvenv",
   "language": "python",
   "name": "python3"
  },
  "language_info": {
   "codemirror_mode": {
    "name": "ipython",
    "version": 3
   },
   "file_extension": ".py",
   "mimetype": "text/x-python",
   "name": "python",
   "nbconvert_exporter": "python",
   "pygments_lexer": "ipython3",
   "version": "3.12.1"
  }
 },
 "nbformat": 4,
 "nbformat_minor": 2
}
